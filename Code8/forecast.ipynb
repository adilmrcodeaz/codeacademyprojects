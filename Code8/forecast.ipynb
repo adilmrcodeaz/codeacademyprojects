{
 "cells": [
  {
   "cell_type": "code",
   "execution_count": 14,
   "metadata": {},
   "outputs": [],
   "source": [
    "import pickle\n",
    "import pandas as pd\n",
    "import numpy as np\n",
    "import json"
   ]
  },
  {
   "cell_type": "code",
   "execution_count": 15,
   "metadata": {},
   "outputs": [],
   "source": [
    "\n",
    "with open('rf_model.pkl', 'rb') as model_file:\n",
    "    rf_classifier = pickle.load(model_file)\n",
    "\n",
    "with open('kmeans_model.pkl', 'rb') as model_file:\n",
    "    kmeans = pickle.load(model_file)\n",
    "\n",
    "with open('pca_model.pkl', 'rb') as model_file:\n",
    "    pca = pickle.load(model_file)\n",
    "\n",
    "with open('scaler.pkl', 'rb') as model_file:\n",
    "    scaler = pickle.load(model_file)\n",
    "# with open('pca_scaler.pkl', 'rb') as model_file:\n",
    "#     pca_scaler = pickle.load(model_file)\n",
    "    \n",
    "with open(\"labels_weight.json\", 'r') as json_file:\n",
    "    label_data = json.load(json_file)\n",
    "    "
   ]
  },
  {
   "cell_type": "code",
   "execution_count": 16,
   "metadata": {},
   "outputs": [],
   "source": [
    "person_array = np.array([79, 75, 96, 7.0, 10.0, \"M\", \"no\", 28, \"yes\", \"Prayer books\", \"no\"])\n",
    "\n",
    "columns = ['Math_test', 'Programming_Concepts_test', 'Communication_skills_test',\n",
    "       'Working_per_day', 'Logic_test', 'Gender', 'Introvert',\n",
    "       'Age', 'Public_speaker', 'Interested Type of Books',\n",
    "       'In a Realtionship?']\n",
    "\n",
    "df = pd.DataFrame([person_array], columns=columns)"
   ]
  },
  {
   "cell_type": "code",
   "execution_count": 17,
   "metadata": {},
   "outputs": [],
   "source": [
    "dummies = ['_Action and Adventure', '_Anthology', '_Art', '_Autobiographies',\n",
    "       '_Biographies', '_Childrens', '_Comics', '_Cookbooks', '_Diaries',\n",
    "       '_Dictionaries', '_Drama', '_Encyclopedias', '_Fantasy', '_Guide',\n",
    "       '_Health', '_History', '_Horror', '_Journals', '_Math', '_Mystery',\n",
    "       '_Poetry', '_Prayer books', '_Religion-Spirituality', '_Romance',\n",
    "       '_Satire', '_Science', '_Science fiction', '_Self help', '_Series',\n",
    "       '_Travel', '_Trilogy']\n",
    "\n",
    "df_for_pca = pd.DataFrame(columns=dummies)\n",
    "\n",
    "\n",
    "df_for_pca.loc[0] = 0\n",
    "values_to_set_to_1 = [\"_Prayer books\"]  \n",
    "df_for_pca.loc[0, values_to_set_to_1] = 1\n",
    "\n",
    "n_components = 3 \n",
    "pca_data = pca.transform(df_for_pca)\n",
    "pca_labels = pd.DataFrame(data=pca_data, columns=[f'PCA_{i+1}' for i in range(n_components)])\n",
    "df = pd.concat([df, pca_labels], axis=1)\n",
    "df.drop(columns=[\"Interested Type of Books\"], inplace=True)\n"
   ]
  },
  {
   "cell_type": "code",
   "execution_count": 18,
   "metadata": {},
   "outputs": [
    {
     "data": {
      "text/html": [
       "<div>\n",
       "<style scoped>\n",
       "    .dataframe tbody tr th:only-of-type {\n",
       "        vertical-align: middle;\n",
       "    }\n",
       "\n",
       "    .dataframe tbody tr th {\n",
       "        vertical-align: top;\n",
       "    }\n",
       "\n",
       "    .dataframe thead th {\n",
       "        text-align: right;\n",
       "    }\n",
       "</style>\n",
       "<table border=\"1\" class=\"dataframe\">\n",
       "  <thead>\n",
       "    <tr style=\"text-align: right;\">\n",
       "      <th></th>\n",
       "      <th>Math_test</th>\n",
       "      <th>Programming_Concepts_test</th>\n",
       "      <th>Communication_skills_test</th>\n",
       "      <th>Working_per_day</th>\n",
       "      <th>Logic_test</th>\n",
       "      <th>Gender</th>\n",
       "      <th>Introvert</th>\n",
       "      <th>Age</th>\n",
       "      <th>Public_speaker</th>\n",
       "      <th>In a Realtionship?</th>\n",
       "      <th>PCA_1</th>\n",
       "      <th>PCA_2</th>\n",
       "      <th>PCA_3</th>\n",
       "    </tr>\n",
       "  </thead>\n",
       "  <tbody>\n",
       "    <tr>\n",
       "      <th>0</th>\n",
       "      <td>79</td>\n",
       "      <td>75</td>\n",
       "      <td>96</td>\n",
       "      <td>7.0</td>\n",
       "      <td>10.0</td>\n",
       "      <td>M</td>\n",
       "      <td>no</td>\n",
       "      <td>28</td>\n",
       "      <td>yes</td>\n",
       "      <td>no</td>\n",
       "      <td>-0.002041</td>\n",
       "      <td>0.010434</td>\n",
       "      <td>0.011315</td>\n",
       "    </tr>\n",
       "  </tbody>\n",
       "</table>\n",
       "</div>"
      ],
      "text/plain": [
       "  Math_test Programming_Concepts_test Communication_skills_test   \n",
       "0        79                        75                        96  \\\n",
       "\n",
       "  Working_per_day Logic_test Gender Introvert Age Public_speaker   \n",
       "0             7.0       10.0      M        no  28            yes  \\\n",
       "\n",
       "  In a Realtionship?     PCA_1     PCA_2     PCA_3  \n",
       "0                 no -0.002041  0.010434  0.011315  "
      ]
     },
     "execution_count": 18,
     "metadata": {},
     "output_type": "execute_result"
    }
   ],
   "source": [
    "df"
   ]
  },
  {
   "cell_type": "code",
   "execution_count": 19,
   "metadata": {},
   "outputs": [],
   "source": [
    "df['Gender'] = df['Gender'].replace( ['F', 'M'], [0, 1])\n",
    "df['Introvert'] = df['Introvert'].replace( ['no', 'yes'], [0, 1])\n",
    "df['Public_speaker'] = df['Public_speaker'].replace( ['no', 'yes'], [0, 1])\n",
    "df['In a Realtionship?'] = df['In a Realtionship?'].replace( ['no', 'yes'], [0, 1])"
   ]
  },
  {
   "cell_type": "code",
   "execution_count": 20,
   "metadata": {},
   "outputs": [
    {
     "data": {
      "text/html": [
       "<div>\n",
       "<style scoped>\n",
       "    .dataframe tbody tr th:only-of-type {\n",
       "        vertical-align: middle;\n",
       "    }\n",
       "\n",
       "    .dataframe tbody tr th {\n",
       "        vertical-align: top;\n",
       "    }\n",
       "\n",
       "    .dataframe thead th {\n",
       "        text-align: right;\n",
       "    }\n",
       "</style>\n",
       "<table border=\"1\" class=\"dataframe\">\n",
       "  <thead>\n",
       "    <tr style=\"text-align: right;\">\n",
       "      <th></th>\n",
       "      <th>Math_test</th>\n",
       "      <th>Programming_Concepts_test</th>\n",
       "      <th>Communication_skills_test</th>\n",
       "      <th>Working_per_day</th>\n",
       "      <th>Logic_test</th>\n",
       "      <th>Age</th>\n",
       "    </tr>\n",
       "  </thead>\n",
       "  <tbody>\n",
       "    <tr>\n",
       "      <th>0</th>\n",
       "      <td>79</td>\n",
       "      <td>75</td>\n",
       "      <td>96</td>\n",
       "      <td>7.0</td>\n",
       "      <td>10.0</td>\n",
       "      <td>28</td>\n",
       "    </tr>\n",
       "  </tbody>\n",
       "</table>\n",
       "</div>"
      ],
      "text/plain": [
       "  Math_test Programming_Concepts_test Communication_skills_test   \n",
       "0        79                        75                        96  \\\n",
       "\n",
       "  Working_per_day Logic_test Age  \n",
       "0             7.0       10.0  28  "
      ]
     },
     "execution_count": 20,
     "metadata": {},
     "output_type": "execute_result"
    }
   ],
   "source": [
    "df.select_dtypes(include=[\"object\"])"
   ]
  },
  {
   "cell_type": "code",
   "execution_count": 21,
   "metadata": {},
   "outputs": [],
   "source": [
    "df['Math_test'] = pd.to_numeric(df['Math_test'], errors='coerce').astype(float)\n",
    "df['Programming_Concepts_test'] = pd.to_numeric(df['Programming_Concepts_test'], errors='coerce').astype(float)\n",
    "df['Communication_skills_test'] = pd.to_numeric(df['Communication_skills_test'], errors='coerce').astype(float)\n",
    "df['Working_per_day'] = pd.to_numeric(df['Working_per_day'], errors='coerce').astype(float)\n",
    "df['Logic_test'] = pd.to_numeric(df['Logic_test'], errors='coerce').astype(float)\n",
    "df['Age'] = pd.to_numeric(df['Age'], errors='coerce').astype(float)"
   ]
  },
  {
   "cell_type": "code",
   "execution_count": 22,
   "metadata": {},
   "outputs": [],
   "source": [
    "sub = df[[\"Math_test\", \"Programming_Concepts_test\", \"Communication_skills_test\", \"Working_per_day\", \"Logic_test\"]]\n",
    "\n",
    "predicted_label = kmeans.predict(sub)"
   ]
  },
  {
   "cell_type": "code",
   "execution_count": 23,
   "metadata": {},
   "outputs": [],
   "source": [
    "df[\"labels\"] = label_data[f\"{predicted_label[0]}\"]"
   ]
  },
  {
   "cell_type": "code",
   "execution_count": 24,
   "metadata": {},
   "outputs": [
    {
     "data": {
      "text/html": [
       "<div>\n",
       "<style scoped>\n",
       "    .dataframe tbody tr th:only-of-type {\n",
       "        vertical-align: middle;\n",
       "    }\n",
       "\n",
       "    .dataframe tbody tr th {\n",
       "        vertical-align: top;\n",
       "    }\n",
       "\n",
       "    .dataframe thead th {\n",
       "        text-align: right;\n",
       "    }\n",
       "</style>\n",
       "<table border=\"1\" class=\"dataframe\">\n",
       "  <thead>\n",
       "    <tr style=\"text-align: right;\">\n",
       "      <th></th>\n",
       "      <th>Math_test</th>\n",
       "      <th>Programming_Concepts_test</th>\n",
       "      <th>Communication_skills_test</th>\n",
       "      <th>Working_per_day</th>\n",
       "      <th>Logic_test</th>\n",
       "      <th>Gender</th>\n",
       "      <th>Introvert</th>\n",
       "      <th>Age</th>\n",
       "      <th>Public_speaker</th>\n",
       "      <th>In a Realtionship?</th>\n",
       "      <th>PCA_1</th>\n",
       "      <th>PCA_2</th>\n",
       "      <th>PCA_3</th>\n",
       "      <th>labels</th>\n",
       "    </tr>\n",
       "  </thead>\n",
       "  <tbody>\n",
       "    <tr>\n",
       "      <th>0</th>\n",
       "      <td>79.0</td>\n",
       "      <td>75.0</td>\n",
       "      <td>96.0</td>\n",
       "      <td>7.0</td>\n",
       "      <td>10.0</td>\n",
       "      <td>1</td>\n",
       "      <td>0</td>\n",
       "      <td>28.0</td>\n",
       "      <td>1</td>\n",
       "      <td>0</td>\n",
       "      <td>-0.002041</td>\n",
       "      <td>0.010434</td>\n",
       "      <td>0.011315</td>\n",
       "      <td>0.53172</td>\n",
       "    </tr>\n",
       "  </tbody>\n",
       "</table>\n",
       "</div>"
      ],
      "text/plain": [
       "   Math_test  Programming_Concepts_test  Communication_skills_test   \n",
       "0       79.0                       75.0                       96.0  \\\n",
       "\n",
       "   Working_per_day  Logic_test  Gender  Introvert   Age  Public_speaker   \n",
       "0              7.0        10.0       1          0  28.0               1  \\\n",
       "\n",
       "   In a Realtionship?     PCA_1     PCA_2     PCA_3   labels  \n",
       "0                   0 -0.002041  0.010434  0.011315  0.53172  "
      ]
     },
     "execution_count": 24,
     "metadata": {},
     "output_type": "execute_result"
    }
   ],
   "source": [
    "df"
   ]
  },
  {
   "cell_type": "code",
   "execution_count": 25,
   "metadata": {},
   "outputs": [],
   "source": [
    "df[df.columns] = scaler.transform(df[df.columns])"
   ]
  },
  {
   "cell_type": "code",
   "execution_count": 26,
   "metadata": {},
   "outputs": [
    {
     "data": {
      "text/html": [
       "<div>\n",
       "<style scoped>\n",
       "    .dataframe tbody tr th:only-of-type {\n",
       "        vertical-align: middle;\n",
       "    }\n",
       "\n",
       "    .dataframe tbody tr th {\n",
       "        vertical-align: top;\n",
       "    }\n",
       "\n",
       "    .dataframe thead th {\n",
       "        text-align: right;\n",
       "    }\n",
       "</style>\n",
       "<table border=\"1\" class=\"dataframe\">\n",
       "  <thead>\n",
       "    <tr style=\"text-align: right;\">\n",
       "      <th></th>\n",
       "      <th>Math_test</th>\n",
       "      <th>Programming_Concepts_test</th>\n",
       "      <th>Communication_skills_test</th>\n",
       "      <th>Working_per_day</th>\n",
       "      <th>Logic_test</th>\n",
       "      <th>Gender</th>\n",
       "      <th>Introvert</th>\n",
       "      <th>Age</th>\n",
       "      <th>Public_speaker</th>\n",
       "      <th>In a Realtionship?</th>\n",
       "      <th>PCA_1</th>\n",
       "      <th>PCA_2</th>\n",
       "      <th>PCA_3</th>\n",
       "      <th>labels</th>\n",
       "    </tr>\n",
       "  </thead>\n",
       "  <tbody>\n",
       "    <tr>\n",
       "      <th>0</th>\n",
       "      <td>0.526316</td>\n",
       "      <td>0.421053</td>\n",
       "      <td>0.804348</td>\n",
       "      <td>0.363636</td>\n",
       "      <td>1.0</td>\n",
       "      <td>1.0</td>\n",
       "      <td>0.0</td>\n",
       "      <td>0.722222</td>\n",
       "      <td>1.0</td>\n",
       "      <td>0.0</td>\n",
       "      <td>0.459692</td>\n",
       "      <td>0.460254</td>\n",
       "      <td>0.403494</td>\n",
       "      <td>0.0</td>\n",
       "    </tr>\n",
       "  </tbody>\n",
       "</table>\n",
       "</div>"
      ],
      "text/plain": [
       "   Math_test  Programming_Concepts_test  Communication_skills_test   \n",
       "0   0.526316                   0.421053                   0.804348  \\\n",
       "\n",
       "   Working_per_day  Logic_test  Gender  Introvert       Age  Public_speaker   \n",
       "0         0.363636         1.0     1.0        0.0  0.722222             1.0  \\\n",
       "\n",
       "   In a Realtionship?     PCA_1     PCA_2     PCA_3  labels  \n",
       "0                 0.0  0.459692  0.460254  0.403494     0.0  "
      ]
     },
     "execution_count": 26,
     "metadata": {},
     "output_type": "execute_result"
    }
   ],
   "source": [
    "df"
   ]
  },
  {
   "cell_type": "code",
   "execution_count": 29,
   "metadata": {},
   "outputs": [
    {
     "data": {
      "text/plain": [
       "0.0"
      ]
     },
     "execution_count": 29,
     "metadata": {},
     "output_type": "execute_result"
    }
   ],
   "source": [
    "rf_classifier.predict(df)[0]"
   ]
  },
  {
   "cell_type": "code",
   "execution_count": null,
   "metadata": {},
   "outputs": [],
   "source": []
  }
 ],
 "metadata": {
  "kernelspec": {
   "display_name": "Python 3",
   "language": "python",
   "name": "python3"
  },
  "language_info": {
   "codemirror_mode": {
    "name": "ipython",
    "version": 3
   },
   "file_extension": ".py",
   "mimetype": "text/x-python",
   "name": "python",
   "nbconvert_exporter": "python",
   "pygments_lexer": "ipython3",
   "version": "3.11.3"
  },
  "orig_nbformat": 4
 },
 "nbformat": 4,
 "nbformat_minor": 2
}
